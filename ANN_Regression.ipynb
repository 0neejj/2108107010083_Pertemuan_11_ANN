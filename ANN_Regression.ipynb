{
 "cells": [
  {
   "cell_type": "code",
   "execution_count": 23,
   "metadata": {},
   "outputs": [
    {
     "name": "stdout",
     "output_type": "stream",
     "text": [
      "Requirement already satisfied: matplotlib==3.4.3 in c:\\users\\asus vivobook 14\\downloads\\tugas ann ml 3\\myenv\\lib\\site-packages (from -r requirements.txt (line 1)) (3.4.3)\n",
      "Requirement already satisfied: numpy==1.21.2 in c:\\users\\asus vivobook 14\\downloads\\tugas ann ml 3\\myenv\\lib\\site-packages (from -r requirements.txt (line 2)) (1.21.2)\n",
      "Requirement already satisfied: pandas==1.3.3 in c:\\users\\asus vivobook 14\\downloads\\tugas ann ml 3\\myenv\\lib\\site-packages (from -r requirements.txt (line 3)) (1.3.3)\n",
      "Requirement already satisfied: scikit-learn==0.24.2 in c:\\users\\asus vivobook 14\\downloads\\tugas ann ml 3\\myenv\\lib\\site-packages (from -r requirements.txt (line 4)) (0.24.2)\n",
      "Requirement already satisfied: tensorflow==2.7.0 in c:\\users\\asus vivobook 14\\downloads\\tugas ann ml 3\\myenv\\lib\\site-packages (from -r requirements.txt (line 5)) (2.7.0)\n",
      "Note: you may need to restart the kernel to use updated packages.\n"
     ]
    },
    {
     "name": "stderr",
     "output_type": "stream",
     "text": [
      "ERROR: Ignored the following versions that require a different python version: 0.13.0 Requires-Python >=3.8; 0.13.0rc0 Requires-Python >=3.8; 0.13.1 Requires-Python >=3.8; 0.13.2 Requires-Python >=3.8\n",
      "ERROR: Could not find a version that satisfies the requirement seaborn==0.13.2 (from versions: 0.1, 0.2.0, 0.2.1, 0.3, 0.3.1, 0.4.0, 0.5.0, 0.5.1, 0.6.0, 0.7.0, 0.7.1, 0.8, 0.8.1, 0.9.0, 0.9.1rc0, 0.9.1, 0.10.0rc0, 0.10.0, 0.10.1, 0.11.0rc0, 0.11.0, 0.11.1, 0.11.2rc0, 0.11.2, 0.12.0b0, 0.12.0b1, 0.12.0b2, 0.12.0b3, 0.12.0rc0, 0.12.0, 0.12.1, 0.12.2)\n",
      "ERROR: No matching distribution found for seaborn==0.13.2\n"
     ]
    }
   ],
   "source": [
    "pip install -r requirements.txt"
   ]
  },
  {
   "cell_type": "code",
   "execution_count": 24,
   "metadata": {},
   "outputs": [],
   "source": [
    "# Mengimpor library yang diperlukan\n",
    "import numpy as np\n",
    "import matplotlib.pyplot as plt\n",
    "import pandas as pd\n",
    "import seaborn as sns\n",
    "from sklearn.preprocessing import LabelEncoder\n",
    "from sklearn.preprocessing import StandardScaler\n",
    "from sklearn.metrics import confusion_matrix"
   ]
  },
  {
   "cell_type": "code",
   "execution_count": 25,
   "metadata": {},
   "outputs": [
    {
     "data": {
      "text/html": [
       "<div>\n",
       "<style scoped>\n",
       "    .dataframe tbody tr th:only-of-type {\n",
       "        vertical-align: middle;\n",
       "    }\n",
       "\n",
       "    .dataframe tbody tr th {\n",
       "        vertical-align: top;\n",
       "    }\n",
       "\n",
       "    .dataframe thead th {\n",
       "        text-align: right;\n",
       "    }\n",
       "</style>\n",
       "<table border=\"1\" class=\"dataframe\">\n",
       "  <thead>\n",
       "    <tr style=\"text-align: right;\">\n",
       "      <th></th>\n",
       "      <th>youtube</th>\n",
       "      <th>facebook</th>\n",
       "      <th>newspaper</th>\n",
       "      <th>sales</th>\n",
       "    </tr>\n",
       "  </thead>\n",
       "  <tbody>\n",
       "    <tr>\n",
       "      <th>0</th>\n",
       "      <td>84.72</td>\n",
       "      <td>19.20</td>\n",
       "      <td>48.96</td>\n",
       "      <td>12.60</td>\n",
       "    </tr>\n",
       "    <tr>\n",
       "      <th>1</th>\n",
       "      <td>351.48</td>\n",
       "      <td>33.96</td>\n",
       "      <td>51.84</td>\n",
       "      <td>25.68</td>\n",
       "    </tr>\n",
       "    <tr>\n",
       "      <th>2</th>\n",
       "      <td>135.48</td>\n",
       "      <td>20.88</td>\n",
       "      <td>46.32</td>\n",
       "      <td>14.28</td>\n",
       "    </tr>\n",
       "    <tr>\n",
       "      <th>3</th>\n",
       "      <td>116.64</td>\n",
       "      <td>1.80</td>\n",
       "      <td>36.00</td>\n",
       "      <td>11.52</td>\n",
       "    </tr>\n",
       "    <tr>\n",
       "      <th>4</th>\n",
       "      <td>318.72</td>\n",
       "      <td>24.00</td>\n",
       "      <td>0.36</td>\n",
       "      <td>20.88</td>\n",
       "    </tr>\n",
       "  </tbody>\n",
       "</table>\n",
       "</div>"
      ],
      "text/plain": [
       "   youtube  facebook  newspaper  sales\n",
       "0    84.72     19.20      48.96  12.60\n",
       "1   351.48     33.96      51.84  25.68\n",
       "2   135.48     20.88      46.32  14.28\n",
       "3   116.64      1.80      36.00  11.52\n",
       "4   318.72     24.00       0.36  20.88"
      ]
     },
     "execution_count": 25,
     "metadata": {},
     "output_type": "execute_result"
    }
   ],
   "source": [
    "# Mengimpor dataset\n",
    "dataset = pd.read_csv('Data/Marketing_Data.csv')\n",
    "dataset.head()"
   ]
  },
  {
   "cell_type": "code",
   "execution_count": 26,
   "metadata": {},
   "outputs": [
    {
     "name": "stdout",
     "output_type": "stream",
     "text": [
      "<class 'pandas.core.frame.DataFrame'>\n",
      "RangeIndex: 171 entries, 0 to 170\n",
      "Data columns (total 4 columns):\n",
      " #   Column     Non-Null Count  Dtype  \n",
      "---  ------     --------------  -----  \n",
      " 0   youtube    171 non-null    float64\n",
      " 1   facebook   171 non-null    float64\n",
      " 2   newspaper  171 non-null    float64\n",
      " 3   sales      171 non-null    float64\n",
      "dtypes: float64(4)\n",
      "memory usage: 5.5 KB\n"
     ]
    }
   ],
   "source": [
    "dataset.info()"
   ]
  },
  {
   "cell_type": "code",
   "execution_count": 27,
   "metadata": {},
   "outputs": [
    {
     "data": {
      "image/png": "[encoded data removed]",
      "text/plain": [
       "<Figure size 1000x800 with 2 Axes>"
      ]
     },
     "metadata": {},
     "output_type": "display_data"
    }
   ],
   "source": [
    "from matplotlib import pyplot as plt\n",
    "# Exclude non-numeric columns from the correlation matrix\n",
    "numeric_cols = dataset.select_dtypes(include=[np.number]).columns\n",
    "correlation_matrix = dataset[numeric_cols].corr()\n",
    "\n",
    "# Plot heatmap untu matriks korelasi\n",
    "plt.figure(figsize=(10, 8))\n",
    "sns.heatmap(correlation_matrix, annot=True, cmap='coolwarm', fmt=\".2f\")\n",
    "plt.title('Correlation Matrix Heatmap')\n",
    "plt.show()"
   ]
  },
  {
   "cell_type": "code",
   "execution_count": 28,
   "metadata": {},
   "outputs": [],
   "source": [
    "# Split data menjadi features (X) dan target variable (y)\n",
    "X = dataset.iloc[:, [0]].values\n",
    "y = dataset.iloc[:, 3].values "
   ]
  },
  {
   "cell_type": "code",
   "execution_count": 29,
   "metadata": {},
   "outputs": [],
   "source": [
    "# Membagi data ke test dan training set\n",
    "from sklearn.model_selection import train_test_split\n",
    "X_train, X_test, y_train, y_test = train_test_split(X, y, test_size = 0.2, random_state = 42)"
   ]
  },
  {
   "cell_type": "code",
   "execution_count": 30,
   "metadata": {},
   "outputs": [],
   "source": [
    "# Feature Scaling\n",
    "from sklearn.preprocessing import StandardScaler\n",
    "sc = StandardScaler()\n",
    "X_train = sc.fit_transform(X_train)\n",
    "X_test = sc.transform(X_test)"
   ]
  },
  {
   "cell_type": "code",
   "execution_count": 31,
   "metadata": {},
   "outputs": [
    {
     "name": "stdout",
     "output_type": "stream",
     "text": [
      "Epoch 1/100\n",
      "14/14 [==============================] - 0s 822us/step - loss: 321.3758\n",
      "Epoch 2/100\n",
      "14/14 [==============================] - 0s 554us/step - loss: 320.8422\n",
      "Epoch 3/100\n",
      "14/14 [==============================] - 0s 754us/step - loss: 320.2465\n",
      "Epoch 4/100\n",
      "14/14 [==============================] - 0s 731us/step - loss: 319.5696\n",
      "Epoch 5/100\n",
      "14/14 [==============================] - 0s 576us/step - loss: 318.7921\n",
      "Epoch 6/100\n",
      "14/14 [==============================] - 0s 667us/step - loss: 317.8606\n",
      "Epoch 7/100\n",
      "14/14 [==============================] - 0s 500us/step - loss: 316.7539\n",
      "Epoch 8/100\n",
      "14/14 [==============================] - 0s 730us/step - loss: 315.4169\n",
      "Epoch 9/100\n",
      "14/14 [==============================] - 0s 693us/step - loss: 313.8393\n",
      "Epoch 10/100\n",
      "14/14 [==============================] - 0s 577us/step - loss: 311.9350\n",
      "Epoch 11/100\n",
      "14/14 [==============================] - 0s 808us/step - loss: 309.6611\n",
      "Epoch 12/100\n",
      "14/14 [==============================] - 0s 654us/step - loss: 306.9511\n",
      "Epoch 13/100\n",
      "14/14 [==============================] - 0s 568us/step - loss: 303.7947\n",
      "Epoch 14/100\n",
      "14/14 [==============================] - 0s 618us/step - loss: 300.1795\n",
      "Epoch 15/100\n",
      "14/14 [==============================] - 0s 539us/step - loss: 295.9105\n",
      "Epoch 16/100\n",
      "14/14 [==============================] - 0s 731us/step - loss: 291.2473\n",
      "Epoch 17/100\n",
      "14/14 [==============================] - 0s 617us/step - loss: 285.9653\n",
      "Epoch 18/100\n",
      "14/14 [==============================] - 0s 577us/step - loss: 280.0301\n",
      "Epoch 19/100\n",
      "14/14 [==============================] - 0s 694us/step - loss: 273.5802\n",
      "Epoch 20/100\n",
      "14/14 [==============================] - 0s 654us/step - loss: 266.5484\n",
      "Epoch 21/100\n",
      "14/14 [==============================] - 0s 696us/step - loss: 258.9181\n",
      "Epoch 22/100\n",
      "14/14 [==============================] - 0s 645us/step - loss: 250.8585\n",
      "Epoch 23/100\n",
      "14/14 [==============================] - 0s 544us/step - loss: 242.1846\n",
      "Epoch 24/100\n",
      "14/14 [==============================] - 0s 654us/step - loss: 233.0932\n",
      "Epoch 25/100\n",
      "14/14 [==============================] - 0s 554us/step - loss: 223.4809\n",
      "Epoch 26/100\n",
      "14/14 [==============================] - 0s 798us/step - loss: 213.4105\n",
      "Epoch 27/100\n",
      "14/14 [==============================] - 0s 774us/step - loss: 203.1652\n",
      "Epoch 28/100\n",
      "14/14 [==============================] - 0s 539us/step - loss: 192.4842\n",
      "Epoch 29/100\n",
      "14/14 [==============================] - 0s 809us/step - loss: 181.6306\n",
      "Epoch 30/100\n",
      "14/14 [==============================] - 0s 769us/step - loss: 170.7248\n",
      "Epoch 31/100\n",
      "14/14 [==============================] - 0s 580us/step - loss: 159.6815\n",
      "Epoch 32/100\n",
      "14/14 [==============================] - 0s 727us/step - loss: 148.5411\n",
      "Epoch 33/100\n",
      "14/14 [==============================] - 0s 693us/step - loss: 137.7308\n",
      "Epoch 34/100\n",
      "14/14 [==============================] - 0s 572us/step - loss: 127.1419\n",
      "Epoch 35/100\n",
      "14/14 [==============================] - 0s 617us/step - loss: 117.0869\n",
      "Epoch 36/100\n",
      "14/14 [==============================] - 0s 624us/step - loss: 106.9603\n",
      "Epoch 37/100\n",
      "14/14 [==============================] - 0s 538us/step - loss: 97.3951\n",
      "Epoch 38/100\n",
      "14/14 [==============================] - 0s 639us/step - loss: 88.4001\n",
      "Epoch 39/100\n",
      "14/14 [==============================] - 0s 714us/step - loss: 80.0166\n",
      "Epoch 40/100\n",
      "14/14 [==============================] - 0s 548us/step - loss: 72.1880\n",
      "Epoch 41/100\n",
      "14/14 [==============================] - 0s 578us/step - loss: 65.0125\n",
      "Epoch 42/100\n",
      "14/14 [==============================] - 0s 618us/step - loss: 58.5852\n",
      "Epoch 43/100\n",
      "14/14 [==============================] - 0s 711us/step - loss: 52.6506\n",
      "Epoch 44/100\n",
      "14/14 [==============================] - 0s 929us/step - loss: 47.4868\n",
      "Epoch 45/100\n",
      "14/14 [==============================] - 0s 694us/step - loss: 42.8864\n",
      "Epoch 46/100\n",
      "14/14 [==============================] - 0s 654us/step - loss: 38.8271\n",
      "Epoch 47/100\n",
      "14/14 [==============================] - 0s 731us/step - loss: 35.5486\n",
      "Epoch 48/100\n",
      "14/14 [==============================] - 0s 802us/step - loss: 32.2055\n",
      "Epoch 49/100\n",
      "14/14 [==============================] - 0s 579us/step - loss: 29.7461\n",
      "Epoch 50/100\n",
      "14/14 [==============================] - 0s 638us/step - loss: 27.6205\n",
      "Epoch 51/100\n",
      "14/14 [==============================] - 0s 808us/step - loss: 25.7921\n",
      "Epoch 52/100\n",
      "14/14 [==============================] - 0s 921us/step - loss: 24.1919\n",
      "Epoch 53/100\n",
      "14/14 [==============================] - 0s 624us/step - loss: 22.9002\n",
      "Epoch 54/100\n",
      "14/14 [==============================] - 0s 622us/step - loss: 21.9291\n",
      "Epoch 55/100\n",
      "14/14 [==============================] - 0s 618us/step - loss: 20.8643\n",
      "Epoch 56/100\n",
      "14/14 [==============================] - 0s 651us/step - loss: 20.0948\n",
      "Epoch 57/100\n",
      "14/14 [==============================] - 0s 693us/step - loss: 19.4213\n",
      "Epoch 58/100\n",
      "14/14 [==============================] - 0s 637us/step - loss: 18.8819\n",
      "Epoch 59/100\n",
      "14/14 [==============================] - 0s 654us/step - loss: 18.3978\n",
      "Epoch 60/100\n",
      "14/14 [==============================] - 0s 615us/step - loss: 18.0290\n",
      "Epoch 61/100\n",
      "14/14 [==============================] - 0s 577us/step - loss: 17.6246\n",
      "Epoch 62/100\n",
      "14/14 [==============================] - 0s 616us/step - loss: 17.3323\n",
      "Epoch 63/100\n",
      "14/14 [==============================] - 0s 808us/step - loss: 17.0979\n",
      "Epoch 64/100\n",
      "14/14 [==============================] - 0s 579us/step - loss: 16.8551\n",
      "Epoch 65/100\n",
      "14/14 [==============================] - 0s 638us/step - loss: 16.6653\n",
      "Epoch 66/100\n",
      "14/14 [==============================] - 0s 731us/step - loss: 16.5022\n",
      "Epoch 67/100\n",
      "14/14 [==============================] - 0s 550us/step - loss: 16.3659\n",
      "Epoch 68/100\n",
      "14/14 [==============================] - 0s 617us/step - loss: 16.2210\n",
      "Epoch 69/100\n",
      "14/14 [==============================] - 0s 794us/step - loss: 16.1691\n",
      "Epoch 70/100\n",
      "14/14 [==============================] - 0s 962us/step - loss: 16.0610\n",
      "Epoch 71/100\n",
      "14/14 [==============================] - 0s 665us/step - loss: 16.0171\n",
      "Epoch 72/100\n",
      "14/14 [==============================] - 0s 616us/step - loss: 15.9185\n",
      "Epoch 73/100\n",
      "14/14 [==============================] - 0s 900us/step - loss: 15.8634\n",
      "Epoch 74/100\n",
      "14/14 [==============================] - 0s 630us/step - loss: 15.8205\n",
      "Epoch 75/100\n",
      "14/14 [==============================] - 0s 631us/step - loss: 15.8004\n",
      "Epoch 76/100\n",
      "14/14 [==============================] - 0s 655us/step - loss: 15.7548\n",
      "Epoch 77/100\n",
      "14/14 [==============================] - 0s 537us/step - loss: 15.7257\n",
      "Epoch 78/100\n",
      "14/14 [==============================] - 0s 694us/step - loss: 15.7150\n",
      "Epoch 79/100\n",
      "14/14 [==============================] - 0s 577us/step - loss: 15.6886\n",
      "Epoch 80/100\n",
      "14/14 [==============================] - 0s 579us/step - loss: 15.6806\n",
      "Epoch 81/100\n",
      "14/14 [==============================] - 0s 577us/step - loss: 15.6583\n",
      "Epoch 82/100\n",
      "14/14 [==============================] - 0s 635us/step - loss: 15.6465\n",
      "Epoch 83/100\n",
      "14/14 [==============================] - 0s 709us/step - loss: 15.6444\n",
      "Epoch 84/100\n",
      "14/14 [==============================] - 0s 654us/step - loss: 15.6371\n",
      "Epoch 85/100\n",
      "14/14 [==============================] - 0s 639us/step - loss: 15.6278\n",
      "Epoch 86/100\n",
      "14/14 [==============================] - 0s 657us/step - loss: 15.6297\n",
      "Epoch 87/100\n",
      "14/14 [==============================] - 0s 500us/step - loss: 15.6209\n",
      "Epoch 88/100\n",
      "14/14 [==============================] - 0s 787us/step - loss: 15.6334\n",
      "Epoch 89/100\n",
      "14/14 [==============================] - 0s 810us/step - loss: 15.6368\n",
      "Epoch 90/100\n",
      "14/14 [==============================] - 0s 576us/step - loss: 15.6177\n",
      "Epoch 91/100\n",
      "14/14 [==============================] - 0s 655us/step - loss: 15.6219\n",
      "Epoch 92/100\n",
      "14/14 [==============================] - 0s 769us/step - loss: 15.6174\n",
      "Epoch 93/100\n",
      "14/14 [==============================] - 0s 616us/step - loss: 15.6148\n",
      "Epoch 94/100\n",
      "14/14 [==============================] - 0s 708us/step - loss: 15.6343\n",
      "Epoch 95/100\n",
      "14/14 [==============================] - 0s 694us/step - loss: 15.6166\n",
      "Epoch 96/100\n",
      "14/14 [==============================] - 0s 577us/step - loss: 15.6136\n",
      "Epoch 97/100\n",
      "14/14 [==============================] - 0s 731us/step - loss: 15.6229\n",
      "Epoch 98/100\n",
      "14/14 [==============================] - 0s 886us/step - loss: 15.6606\n",
      "Epoch 99/100\n",
      "14/14 [==============================] - 0s 776us/step - loss: 15.6220\n",
      "Epoch 100/100\n",
      "14/14 [==============================] - 0s 654us/step - loss: 15.6087\n"
     ]
    }
   ],
   "source": [
    "import numpy as np\n",
    "from tensorflow.keras.models import Sequential\n",
    "from tensorflow.keras.layers import Dense\n",
    "\n",
    "\n",
    "Mesinreg = Sequential()\n",
    "\n",
    "\n",
    "Mesinreg.add(Dense(units=6, kernel_initializer='uniform', activation='relu'))\n",
    "\n",
    "\n",
    "Mesinreg.add(Dense(units=6, kernel_initializer='uniform', activation='relu'))\n",
    "\n",
    "\n",
    "Mesinreg.add(Dense(units=1, kernel_initializer='uniform', activation='linear'))\n",
    "\n",
    "\n",
    "Mesinreg.compile(optimizer='adam', loss='mean_squared_error')\n",
    "\n",
    "\n",
    "Mesinreg.fit(X_train, y_train, batch_size=10, epochs=100)\n",
    "\n",
    "\n",
    "y_pred = Mesinreg.predict(X_test)"
   ]
  },
  {
   "cell_type": "code",
   "execution_count": 32,
   "metadata": {},
   "outputs": [
    {
     "name": "stdout",
     "output_type": "stream",
     "text": [
      "Root Mean Square Error (RMSE): 3.8493374993168183\n",
      "Mean Absolute Error (MAE): 3.030516702924456\n",
      "R-squared (R^2): 0.6622002386519863\n"
     ]
    }
   ],
   "source": [
    "from sklearn.metrics import mean_squared_error, mean_absolute_error, r2_score\n",
    "import numpy as np\n",
    "\n",
    "# Calculate RMSE\n",
    "rmse_modified = np.sqrt(mean_squared_error(y_test, y_pred))\n",
    "\n",
    "# Calculate MAE\n",
    "mae_modified = mean_absolute_error(y_test, y_pred)\n",
    "\n",
    "# Calculate R^2\n",
    "r_squared = r2_score(y_test, y_pred)\n",
    "\n",
    "# Print modified metrics\n",
    "print(\"Root Mean Square Error (RMSE):\", rmse_modified)\n",
    "print(\"Mean Absolute Error (MAE):\", mae_modified)\n",
    "print(\"R-squared (R^2):\", r_squared)"
   ]
  },
  {
   "cell_type": "code",
   "execution_count": 33,
   "metadata": {},
   "outputs": [
    {
     "data": {
      "image/png": "[encoded data removed]",
      "text/plain": [
       "<Figure size 800x600 with 1 Axes>"
      ]
     },
     "metadata": {},
     "output_type": "display_data"
    }
   ],
   "source": [
    "\n",
    "plt.figure(figsize=(8, 6))\n",
    "plt.scatter(y_test, y_pred, color='blue')\n",
    "plt.plot([min(y_test), max(y_test)], [min(y_test), max(y_test)], color='red') \n",
    "plt.title('Actual vs. Predicted Values (Modified Model)')\n",
    "plt.xlabel('Actual Values')\n",
    "plt.ylabel('Predicted Values')\n",
    "plt.show()"
   ]
  }
 ],
 "metadata": {
  "kernelspec": {
   "display_name": "Python 3",
   "language": "python",
   "name": "python3"
  },
  "language_info": {
   "codemirror_mode": {
    "name": "ipython",
    "version": 3
   },
   "file_extension": ".py",
   "mimetype": "text/x-python",
   "name": "python",
   "nbconvert_exporter": "python",
   "pygments_lexer": "ipython3",
   "version": "3.7.4"
  }
 },
 "nbformat": 4,
 "nbformat_minor": 2
}
